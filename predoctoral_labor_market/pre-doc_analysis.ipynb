{
 "cells": [
  {
   "cell_type": "code",
   "execution_count": 1,
   "metadata": {
    "ExecuteTime": {
     "end_time": "2020-07-13T03:21:13.735704Z",
     "start_time": "2020-07-13T03:21:12.744396Z"
    }
   },
   "outputs": [],
   "source": [
    "import pandas as pd\n",
    "import numpy as np\n",
    "import re\n",
    "import os\n",
    "from tika import parser\n",
    "import seaborn as sns\n",
    "import matplotlib.pyplot as plt\n",
    "from matplotlib.ticker import MaxNLocator\n",
    "sns.set(style=\"ticks\", color_codes=True)"
   ]
  },
  {
   "cell_type": "code",
   "execution_count": 2,
   "metadata": {
    "ExecuteTime": {
     "end_time": "2020-07-13T03:21:13.748151Z",
     "start_time": "2020-07-13T03:21:13.739264Z"
    }
   },
   "outputs": [
    {
     "data": {
      "text/plain": [
       "['Chicago13.pdf',\n",
       " 'Chicago12.pdf',\n",
       " 'Chicago10.pdf',\n",
       " 'westpoint1.pdf',\n",
       " 'Chicago11.pdf',\n",
       " 'Chicago15.pdf',\n",
       " 'Wharton3.pdf',\n",
       " 'Wharton2.pdf',\n",
       " 'UCLA1.pdf',\n",
       " 'Chicago14.pdf',\n",
       " 'Chicago16.pdf',\n",
       " 'USC1.pdf',\n",
       " 'carnegie1.pdf',\n",
       " 'Wharton1.pdf',\n",
       " 'Chicago17.pdf',\n",
       " 'Chicago3.pdf',\n",
       " 'Harvard2.pdf',\n",
       " 'Columbia3.pdf',\n",
       " 'Berkeley1.pdf',\n",
       " 'Columbia2.pdf',\n",
       " 'Harvard3.pdf',\n",
       " 'Chicago2.pdf',\n",
       " 'Harvard1.pdf',\n",
       " 'Berkeley2.pdf',\n",
       " 'Columbia1.pdf',\n",
       " 'Chicago1.pdf',\n",
       " 'Yale4.pdf',\n",
       " 'Chicago5.pdf',\n",
       " 'Harvard4.pdf',\n",
       " 'Michigan1.pdf',\n",
       " 'Harvard5.pdf',\n",
       " 'Chicago4.pdf',\n",
       " 'Yale1.pdf',\n",
       " 'Yale3.pdf',\n",
       " 'Chicago6.pdf',\n",
       " 'Harvard7.pdf',\n",
       " 'Harvard6.pdf',\n",
       " 'Chicago7.pdf',\n",
       " 'Yale2.pdf',\n",
       " 'Stanford1.pdf',\n",
       " 'Chicago9.pdf',\n",
       " 'Harvard8.pdf',\n",
       " 'Harvard9.pdf',\n",
       " 'Chicago8.pdf',\n",
       " 'NYU2.pdf',\n",
       " 'Harvard10.pdf',\n",
       " 'Kellogg2.pdf',\n",
       " 'MIT1.pdf',\n",
       " 'NYU1.pdf',\n",
       " 'Kellogg1.pdf',\n",
       " 'MIT2.pdf',\n",
       " 'Germany1.pdf',\n",
       " 'Chicago18.pdf',\n",
       " 'LSE1.pdf',\n",
       " 'Barcelona1.pdf']"
      ]
     },
     "execution_count": 2,
     "metadata": {},
     "output_type": "execute_result"
    }
   ],
   "source": [
    "files = [file for file in os.listdir() if \".pdf\" in file]\n",
    "files"
   ]
  },
  {
   "cell_type": "code",
   "execution_count": 3,
   "metadata": {
    "ExecuteTime": {
     "end_time": "2020-07-13T03:21:14.552798Z",
     "start_time": "2020-07-13T03:21:13.751629Z"
    }
   },
   "outputs": [],
   "source": [
    "file_dict = dict()\n",
    "for file in files:\n",
    "    file_dict[file.lower()] = re.sub(r'\\s+', ' ',\n",
    "        re.sub(\n",
    "            r'\\n+', '', parser.from_file(file)['content']\n",
    "        )\n",
    "    ).lower()\n",
    "ads = (\n",
    "    pd.DataFrame.from_dict(file_dict, orient = 'index')\n",
    "    .rename(columns = {0: 'text'})\n",
    "    .rename_axis('ad_name',axis=0)\n",
    ")\n",
    "ads['school'] = ads.index.to_series().str.extract(r'(\\D+)')"
   ]
  },
  {
   "cell_type": "code",
   "execution_count": 4,
   "metadata": {
    "ExecuteTime": {
     "end_time": "2020-07-13T03:21:14.565447Z",
     "start_time": "2020-07-13T03:21:14.555393Z"
    }
   },
   "outputs": [
    {
     "data": {
      "text/html": [
       "<div>\n",
       "<style scoped>\n",
       "    .dataframe tbody tr th:only-of-type {\n",
       "        vertical-align: middle;\n",
       "    }\n",
       "\n",
       "    .dataframe tbody tr th {\n",
       "        vertical-align: top;\n",
       "    }\n",
       "\n",
       "    .dataframe thead th {\n",
       "        text-align: right;\n",
       "    }\n",
       "</style>\n",
       "<table border=\"1\" class=\"dataframe\">\n",
       "  <thead>\n",
       "    <tr style=\"text-align: right;\">\n",
       "      <th></th>\n",
       "      <th>text</th>\n",
       "      <th>school</th>\n",
       "    </tr>\n",
       "    <tr>\n",
       "      <th>ad_name</th>\n",
       "      <th></th>\n",
       "      <th></th>\n",
       "    </tr>\n",
       "  </thead>\n",
       "  <tbody>\n",
       "    <tr>\n",
       "      <td>chicago13.pdf</td>\n",
       "      <td>job title: research professional – full-time,...</td>\n",
       "      <td>chicago</td>\n",
       "    </tr>\n",
       "    <tr>\n",
       "      <td>chicago12.pdf</td>\n",
       "      <td>job title: research professional – full-time,...</td>\n",
       "      <td>chicago</td>\n",
       "    </tr>\n",
       "    <tr>\n",
       "      <td>chicago10.pdf</td>\n",
       "      <td>job title: research professional – big data i...</td>\n",
       "      <td>chicago</td>\n",
       "    </tr>\n",
       "    <tr>\n",
       "      <td>westpoint1.pdf</td>\n",
       "      <td>data analyst location: west point, ny, usa dea...</td>\n",
       "      <td>westpoint</td>\n",
       "    </tr>\n",
       "    <tr>\n",
       "      <td>chicago11.pdf</td>\n",
       "      <td>job title: research professional – chicago ex...</td>\n",
       "      <td>chicago</td>\n",
       "    </tr>\n",
       "  </tbody>\n",
       "</table>\n",
       "</div>"
      ],
      "text/plain": [
       "                                                             text     school\n",
       "ad_name                                                                     \n",
       "chicago13.pdf    job title: research professional – full-time,...    chicago\n",
       "chicago12.pdf    job title: research professional – full-time,...    chicago\n",
       "chicago10.pdf    job title: research professional – big data i...    chicago\n",
       "westpoint1.pdf  data analyst location: west point, ny, usa dea...  westpoint\n",
       "chicago11.pdf    job title: research professional – chicago ex...    chicago"
      ]
     },
     "execution_count": 4,
     "metadata": {},
     "output_type": "execute_result"
    }
   ],
   "source": [
    "ads.head()"
   ]
  },
  {
   "cell_type": "code",
   "execution_count": 5,
   "metadata": {
    "ExecuteTime": {
     "end_time": "2020-07-13T03:21:14.574676Z",
     "start_time": "2020-07-13T03:21:14.567929Z"
    }
   },
   "outputs": [],
   "source": [
    "# Patterns\n",
    "research_pattern = r\"\"\"(?P<ra_exp>\\s\\S+\\s\\S+\\s\n",
    "(\n",
    "prior\\sresearch\\sexperience|\n",
    "relevant\\sresearch\\sexperience,?|\n",
    "(previous|prior)\\sexperience\\s(?:as\\s(a|an)\\s)research\\b\n",
    ")\n",
    "\\s\\S+\\s\\S+\\s\\S+)\"\"\"\n",
    "\n",
    "stata_pattern = r'(?P<stata>stata\\b\\S*\\s\\S+\\s\\S+\\s\\S+\\s\\S+)'\n",
    "python_pattern = r'(?P<python>python\\b\\S*\\s\\S+\\s\\S+\\s\\S+)'\n",
    "r_pattern = r'(?P<r>\\br\\b(?!\\.))'\n",
    "c_pattern = r'(?P<c>\\bc\\b(?=\\.))'\n",
    "c_plus_pattern = r'(?P<c_plus>c\\+\\+)'\n",
    "sql_pattern = r'(?P<sql>\\bsql\\b)'\n",
    "ml_pattern = r'(?P<ml>\\bmachine\\slearning\\b)'\n",
    "sas_pattern = r'(?P<sas>\\bsas\\b)'\n",
    "salary_pattern = r'(?P<salary>\\d{2},\\d{3})'\n",
    "\n",
    "pattern_dict = {\n",
    "    \"ra_exp\":research_pattern,\n",
    "    \"stata\":stata_pattern,\n",
    "    \"python\":python_pattern,\n",
    "    \"r\":r_pattern,\n",
    "    \"c\":c_pattern,\n",
    "    \"c_plus\":c_plus_pattern,\n",
    "    \"sql\":sql_pattern,\n",
    "    \"sas\":sas_pattern,\n",
    "    \"ml\":ml_pattern,\n",
    "    \"salary\":salary_pattern\n",
    "}"
   ]
  },
  {
   "cell_type": "code",
   "execution_count": 6,
   "metadata": {
    "ExecuteTime": {
     "end_time": "2020-07-13T03:21:14.644044Z",
     "start_time": "2020-07-13T03:21:14.576616Z"
    }
   },
   "outputs": [
    {
     "data": {
      "text/html": [
       "<div>\n",
       "<style scoped>\n",
       "    .dataframe tbody tr th:only-of-type {\n",
       "        vertical-align: middle;\n",
       "    }\n",
       "\n",
       "    .dataframe tbody tr th {\n",
       "        vertical-align: top;\n",
       "    }\n",
       "\n",
       "    .dataframe thead th {\n",
       "        text-align: right;\n",
       "    }\n",
       "</style>\n",
       "<table border=\"1\" class=\"dataframe\">\n",
       "  <thead>\n",
       "    <tr style=\"text-align: right;\">\n",
       "      <th></th>\n",
       "      <th>text</th>\n",
       "      <th>school</th>\n",
       "      <th>ra_exp</th>\n",
       "      <th>stata</th>\n",
       "      <th>python</th>\n",
       "      <th>r</th>\n",
       "      <th>c</th>\n",
       "      <th>c_plus</th>\n",
       "      <th>sql</th>\n",
       "      <th>sas</th>\n",
       "      <th>ml</th>\n",
       "      <th>salary</th>\n",
       "    </tr>\n",
       "    <tr>\n",
       "      <th>ad_name</th>\n",
       "      <th></th>\n",
       "      <th></th>\n",
       "      <th></th>\n",
       "      <th></th>\n",
       "      <th></th>\n",
       "      <th></th>\n",
       "      <th></th>\n",
       "      <th></th>\n",
       "      <th></th>\n",
       "      <th></th>\n",
       "      <th></th>\n",
       "      <th></th>\n",
       "    </tr>\n",
       "  </thead>\n",
       "  <tbody>\n",
       "    <tr>\n",
       "      <td>chicago13.pdf</td>\n",
       "      <td>job title: research professional – full-time,...</td>\n",
       "      <td>chicago</td>\n",
       "      <td>experience 1) relevant research experience, e...</td>\n",
       "      <td>stata, or r, and familiarity</td>\n",
       "      <td>python with interest in</td>\n",
       "      <td>r</td>\n",
       "      <td>c</td>\n",
       "      <td>c++</td>\n",
       "      <td>NaN</td>\n",
       "      <td>NaN</td>\n",
       "      <td>NaN</td>\n",
       "      <td>NaN</td>\n",
       "    </tr>\n",
       "    <tr>\n",
       "      <td>chicago12.pdf</td>\n",
       "      <td>job title: research professional – full-time,...</td>\n",
       "      <td>chicago</td>\n",
       "      <td>experience 1) relevant research experience, e...</td>\n",
       "      <td>stata, or r, and familiarity</td>\n",
       "      <td>python with interest in</td>\n",
       "      <td>r</td>\n",
       "      <td>c</td>\n",
       "      <td>c++</td>\n",
       "      <td>NaN</td>\n",
       "      <td>NaN</td>\n",
       "      <td>NaN</td>\n",
       "      <td>NaN</td>\n",
       "    </tr>\n",
       "    <tr>\n",
       "      <td>chicago10.pdf</td>\n",
       "      <td>job title: research professional – big data i...</td>\n",
       "      <td>chicago</td>\n",
       "      <td>experience 1) relevant research experience, e...</td>\n",
       "      <td>stata, python, matlab, and/or r</td>\n",
       "      <td>python, r, and/or julie.</td>\n",
       "      <td>r</td>\n",
       "      <td>c</td>\n",
       "      <td>NaN</td>\n",
       "      <td>NaN</td>\n",
       "      <td>NaN</td>\n",
       "      <td>machine learning</td>\n",
       "      <td>NaN</td>\n",
       "    </tr>\n",
       "    <tr>\n",
       "      <td>westpoint1.pdf</td>\n",
       "      <td>data analyst location: west point, ny, usa dea...</td>\n",
       "      <td>westpoint</td>\n",
       "      <td>NaN</td>\n",
       "      <td>stata salary range: $50,000 to</td>\n",
       "      <td>NaN</td>\n",
       "      <td>NaN</td>\n",
       "      <td>NaN</td>\n",
       "      <td>NaN</td>\n",
       "      <td>NaN</td>\n",
       "      <td>NaN</td>\n",
       "      <td>NaN</td>\n",
       "      <td>50,000</td>\n",
       "    </tr>\n",
       "    <tr>\n",
       "      <td>chicago11.pdf</td>\n",
       "      <td>job title: research professional – chicago ex...</td>\n",
       "      <td>chicago</td>\n",
       "      <td>preferred • relevant research experience, esp...</td>\n",
       "      <td>stata, python, matlab, and/or r</td>\n",
       "      <td>python, matlab, and/or r</td>\n",
       "      <td>r</td>\n",
       "      <td>c</td>\n",
       "      <td>NaN</td>\n",
       "      <td>NaN</td>\n",
       "      <td>NaN</td>\n",
       "      <td>NaN</td>\n",
       "      <td>NaN</td>\n",
       "    </tr>\n",
       "  </tbody>\n",
       "</table>\n",
       "</div>"
      ],
      "text/plain": [
       "                                                             text     school  \\\n",
       "ad_name                                                                        \n",
       "chicago13.pdf    job title: research professional – full-time,...    chicago   \n",
       "chicago12.pdf    job title: research professional – full-time,...    chicago   \n",
       "chicago10.pdf    job title: research professional – big data i...    chicago   \n",
       "westpoint1.pdf  data analyst location: west point, ny, usa dea...  westpoint   \n",
       "chicago11.pdf    job title: research professional – chicago ex...    chicago   \n",
       "\n",
       "                                                           ra_exp  \\\n",
       "ad_name                                                             \n",
       "chicago13.pdf    experience 1) relevant research experience, e...   \n",
       "chicago12.pdf    experience 1) relevant research experience, e...   \n",
       "chicago10.pdf    experience 1) relevant research experience, e...   \n",
       "westpoint1.pdf                                                NaN   \n",
       "chicago11.pdf    preferred • relevant research experience, esp...   \n",
       "\n",
       "                                          stata                    python  \\\n",
       "ad_name                                                                     \n",
       "chicago13.pdf      stata, or r, and familiarity   python with interest in   \n",
       "chicago12.pdf      stata, or r, and familiarity   python with interest in   \n",
       "chicago10.pdf   stata, python, matlab, and/or r  python, r, and/or julie.   \n",
       "westpoint1.pdf   stata salary range: $50,000 to                       NaN   \n",
       "chicago11.pdf   stata, python, matlab, and/or r  python, matlab, and/or r   \n",
       "\n",
       "                  r    c c_plus  sql  sas                ml  salary  \n",
       "ad_name                                                              \n",
       "chicago13.pdf     r    c    c++  NaN  NaN               NaN     NaN  \n",
       "chicago12.pdf     r    c    c++  NaN  NaN               NaN     NaN  \n",
       "chicago10.pdf     r    c    NaN  NaN  NaN  machine learning     NaN  \n",
       "westpoint1.pdf  NaN  NaN    NaN  NaN  NaN               NaN  50,000  \n",
       "chicago11.pdf     r    c    NaN  NaN  NaN               NaN     NaN  "
      ]
     },
     "execution_count": 6,
     "metadata": {},
     "output_type": "execute_result"
    }
   ],
   "source": [
    "for name, pattern in pattern_dict.items():\n",
    "    ads[name] = ads['text'].str.extract(pattern, flags=re.I|re.S|re.X)[name]\n",
    "ads.head()"
   ]
  },
  {
   "cell_type": "code",
   "execution_count": 7,
   "metadata": {
    "ExecuteTime": {
     "end_time": "2020-07-13T03:21:14.658571Z",
     "start_time": "2020-07-13T03:21:14.646233Z"
    }
   },
   "outputs": [],
   "source": [
    "columns = [\n",
    "    'ra_exp',\n",
    "    'stata',\n",
    "    'python',\n",
    "    'r',\n",
    "    'c',\n",
    "    'c_plus',\n",
    "    'sql',\n",
    "    'sas',\n",
    "    'ml'\n",
    "]\n",
    "\n",
    "for col in columns:\n",
    "    ads[col] = ads[col].apply(lambda x: 0 if pd.isna(x) else 1)"
   ]
  },
  {
   "cell_type": "code",
   "execution_count": 12,
   "metadata": {
    "ExecuteTime": {
     "end_time": "2020-07-13T03:23:24.516870Z",
     "start_time": "2020-07-13T03:23:23.867379Z"
    }
   },
   "outputs": [
    {
     "data": {
      "image/png": "[encoded data removed]",
      "text/plain": [
       "<Figure size 360x360 with 1 Axes>"
      ]
     },
     "metadata": {
      "needs_background": "light"
     },
     "output_type": "display_data"
    }
   ],
   "source": [
    "sns.catplot(y='school',kind='count',data=ads)\n",
    "plt.gca().xaxis.set_major_locator(MaxNLocator(integer=True))\n",
    "plt.title('Schools in Sample')\n",
    "plt.gca().set_yticklabels([\n",
    "    'Chicago',\n",
    "    'West Point',\n",
    "    'Wharton',\n",
    "    'UCLA',\n",
    "    'USC',\n",
    "    'Carnegie Tepper',\n",
    "    'Harvard',\n",
    "    'Columbia',\n",
    "    'Berkeley',\n",
    "    'Yale',\n",
    "    'Michigan',\n",
    "    'Stanford',\n",
    "    'NYU',\n",
    "    'Kellogg',\n",
    "    'MIT',\n",
    "    'German Schools',\n",
    "    'LSE',\n",
    "    'Barcelona Schools'\n",
    "])\n",
    "plt.tight_layout()\n",
    "plt.savefig('schools.png', dpi=600)"
   ]
  },
  {
   "cell_type": "code",
   "execution_count": 9,
   "metadata": {
    "ExecuteTime": {
     "end_time": "2020-07-13T03:21:15.378883Z",
     "start_time": "2020-07-13T03:21:15.367327Z"
    }
   },
   "outputs": [
    {
     "data": {
      "text/plain": [
       "ra_exp    0.363636\n",
       "stata     0.836364\n",
       "python    0.727273\n",
       "r         0.654545\n",
       "c         0.254545\n",
       "c_plus    0.072727\n",
       "sql       0.127273\n",
       "sas       0.200000\n",
       "ml        0.127273\n",
       "dtype: float64"
      ]
     },
     "execution_count": 9,
     "metadata": {},
     "output_type": "execute_result"
    }
   ],
   "source": [
    "sums = ads[['ra_exp','stata','python','r','c','c_plus','sql','sas','ml']].apply(lambda x: sum(x)/len(x))\n",
    "sums"
   ]
  },
  {
   "cell_type": "code",
   "execution_count": 10,
   "metadata": {
    "ExecuteTime": {
     "end_time": "2020-07-13T03:21:16.011690Z",
     "start_time": "2020-07-13T03:21:15.381754Z"
    }
   },
   "outputs": [
    {
     "data": {
      "image/png": "[encoded data removed]",
      "text/plain": [
       "<Figure size 432x288 with 1 Axes>"
      ]
     },
     "metadata": {
      "needs_background": "light"
     },
     "output_type": "display_data"
    }
   ],
   "source": [
    "sns.barplot(x=sums.values, y=sums.index)\n",
    "plt.gca().set_yticklabels(['Research Exp','Stata','Python','R','C','C++','SQL','SAS','Machine Learning'])\n",
    "plt.tight_layout()\n",
    "plt.savefig('skill_fractions.png', dpi=600)"
   ]
  },
  {
   "cell_type": "code",
   "execution_count": 11,
   "metadata": {
    "ExecuteTime": {
     "end_time": "2020-07-13T03:21:16.603885Z",
     "start_time": "2020-07-13T03:21:16.014086Z"
    }
   },
   "outputs": [
    {
     "data": {
      "image/png": "[encoded data removed]",
      "text/plain": [
       "<Figure size 432x288 with 1 Axes>"
      ]
     },
     "metadata": {
      "needs_background": "light"
     },
     "output_type": "display_data"
    }
   ],
   "source": [
    "sns.distplot(ads['salary'].dropna().str.replace(',', '').astype(float), kde=False, rug=False)\n",
    "plt.savefig('salary.png', dpi=600)"
   ]
  },
  {
   "cell_type": "code",
   "execution_count": null,
   "metadata": {
    "ExecuteTime": {
     "end_time": "2020-07-13T02:52:11.705091Z",
     "start_time": "2020-07-13T02:52:11.679385Z"
    }
   },
   "outputs": [],
   "source": []
  },
  {
   "cell_type": "code",
   "execution_count": null,
   "metadata": {
    "ExecuteTime": {
     "end_time": "2020-07-13T02:54:47.177418Z",
     "start_time": "2020-07-13T02:54:47.168820Z"
    }
   },
   "outputs": [],
   "source": []
  },
  {
   "cell_type": "code",
   "execution_count": null,
   "metadata": {},
   "outputs": [],
   "source": []
  }
 ],
 "metadata": {
  "kernelspec": {
   "display_name": "Python 3",
   "language": "python",
   "name": "python3"
  },
  "language_info": {
   "codemirror_mode": {
    "name": "ipython",
    "version": 3
   },
   "file_extension": ".py",
   "mimetype": "text/x-python",
   "name": "python",
   "nbconvert_exporter": "python",
   "pygments_lexer": "ipython3",
   "version": "3.7.4"
  }
 },
 "nbformat": 4,
 "nbformat_minor": 2
}
